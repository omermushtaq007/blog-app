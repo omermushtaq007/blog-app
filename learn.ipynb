{
  "nbformat": 4,
  "nbformat_minor": 0,
  "metadata": {
    "colab": {
      "provenance": [],
      "authorship_tag": "ABX9TyNujudAqHqPmTyHdR3vHQy6",
      "include_colab_link": true
    },
    "kernelspec": {
      "name": "python3",
      "display_name": "Python 3"
    },
    "language_info": {
      "name": "python"
    }
  },
  "cells": [
    {
      "cell_type": "markdown",
      "metadata": {
        "id": "view-in-github",
        "colab_type": "text"
      },
      "source": [
        "<a href=\"https://colab.research.google.com/github/omermushtaq007/blog-app/blob/main/learn.ipynb\" target=\"_parent\"><img src=\"https://colab.research.google.com/assets/colab-badge.svg\" alt=\"Open In Colab\"/></a>"
      ]
    },
    {
      "cell_type": "markdown",
      "source": [
        "Check which version of tensorflow using"
      ],
      "metadata": {
        "id": "9yIIpRwEfPuF"
      }
    },
    {
      "cell_type": "code",
      "source": [
        "try:\n",
        "  %tensorflow_version 2.x #This import only works in colab.\n",
        "except Exception:\n",
        "  pass\n",
        "\n",
        "import tensorflow as tf\n",
        "print(tf.__version__)"
      ],
      "metadata": {
        "id": "j5J3-8jwAUAy",
        "colab": {
          "base_uri": "https://localhost:8080/"
        },
        "outputId": "0db96f87-4048-482b-9d36-7af70631d098"
      },
      "execution_count": 3,
      "outputs": [
        {
          "output_type": "stream",
          "name": "stdout",
          "text": [
            "Colab only includes TensorFlow 2.x; %tensorflow_version has no effect.\n",
            "2.11.0\n"
          ]
        }
      ]
    },
    {
      "cell_type": "code",
      "source": [
        "#import data\n",
        "from sklearn.datasets import load_breast_cancer\n",
        "\n"
      ],
      "metadata": {
        "id": "SyfISxABfncK"
      },
      "execution_count": 5,
      "outputs": []
    },
    {
      "cell_type": "code",
      "source": [
        "data = load_breast_cancer()\n"
      ],
      "metadata": {
        "id": "Ss_K5i4Ung8k"
      },
      "execution_count": 8,
      "outputs": []
    },
    {
      "cell_type": "code",
      "source": [
        "from sklearn.model_selection import train_test_split\n",
        "\n",
        "X_train, X_test, Y_train, Y_test = train_test_split(\n",
        "    data.data, data.target, test_size=0.33\n",
        ")"
      ],
      "metadata": {
        "id": "0yy3HQz1sRyL"
      },
      "execution_count": 12,
      "outputs": []
    },
    {
      "cell_type": "code",
      "source": [
        "N, D = X_train.shape"
      ],
      "metadata": {
        "id": "dLQ51R3A0WnY"
      },
      "execution_count": 13,
      "outputs": []
    },
    {
      "cell_type": "code",
      "source": [
        "N, D"
      ],
      "metadata": {
        "colab": {
          "base_uri": "https://localhost:8080/"
        },
        "id": "lSfa7Ug70fqk",
        "outputId": "6d5db1c8-10c4-4936-8c3f-0f04abeeae2d"
      },
      "execution_count": 14,
      "outputs": [
        {
          "output_type": "execute_result",
          "data": {
            "text/plain": [
              "(381, 30)"
            ]
          },
          "metadata": {},
          "execution_count": 14
        }
      ]
    },
    {
      "cell_type": "code",
      "source": [
        "from sklearn.preprocessing import StandardScaler\n",
        "\n",
        "scaler = StandardScaler()\n",
        "X_train = scaler.fit_transform(X_train)\n",
        "X_test = scaler.transform(X_test)"
      ],
      "metadata": {
        "id": "CSfn26710oC_"
      },
      "execution_count": 16,
      "outputs": []
    },
    {
      "cell_type": "code",
      "source": [
        "model = tf.keras.models.Sequential([\n",
        "    tf.keras.layers.Input(shape=(D,)),\n",
        "    tf.keras.layers.Dense(1, activation='sigmoid')\n",
        "])"
      ],
      "metadata": {
        "id": "pzkHt_mq7bHo"
      },
      "execution_count": 17,
      "outputs": []
    },
    {
      "cell_type": "code",
      "source": [
        "model.compile(optimizer='adam', loss='binary_crossentropy', metrics=['accuracy'])"
      ],
      "metadata": {
        "id": "fI94RYbM8wD5"
      },
      "execution_count": 19,
      "outputs": []
    },
    {
      "cell_type": "code",
      "source": [
        "r = model.fit(X_train, Y_train, validation_data=(X_test, Y_test), epochs=100)"
      ],
      "metadata": {
        "colab": {
          "base_uri": "https://localhost:8080/"
        },
        "id": "5oyBjfYi9b0-",
        "outputId": "16a0ece9-540a-47ef-96cd-a194702e0e22"
      },
      "execution_count": 20,
      "outputs": [
        {
          "output_type": "stream",
          "name": "stdout",
          "text": [
            "Epoch 1/100\n",
            "12/12 [==============================] - 1s 28ms/step - loss: 0.7145 - accuracy: 0.6037 - val_loss: 86.0891 - val_accuracy: 0.6117\n",
            "Epoch 2/100\n",
            "12/12 [==============================] - 0s 7ms/step - loss: 0.6436 - accuracy: 0.6693 - val_loss: 73.6551 - val_accuracy: 0.6117\n",
            "Epoch 3/100\n",
            "12/12 [==============================] - 0s 8ms/step - loss: 0.5834 - accuracy: 0.7165 - val_loss: 61.7932 - val_accuracy: 0.6117\n",
            "Epoch 4/100\n",
            "12/12 [==============================] - 0s 7ms/step - loss: 0.5327 - accuracy: 0.7559 - val_loss: 50.6854 - val_accuracy: 0.6117\n",
            "Epoch 5/100\n",
            "12/12 [==============================] - 0s 7ms/step - loss: 0.4885 - accuracy: 0.7743 - val_loss: 40.2380 - val_accuracy: 0.6117\n",
            "Epoch 6/100\n",
            "12/12 [==============================] - 0s 6ms/step - loss: 0.4529 - accuracy: 0.7927 - val_loss: 30.2875 - val_accuracy: 0.6117\n",
            "Epoch 7/100\n",
            "12/12 [==============================] - 0s 7ms/step - loss: 0.4211 - accuracy: 0.8110 - val_loss: 21.1403 - val_accuracy: 0.6064\n",
            "Epoch 8/100\n",
            "12/12 [==============================] - 0s 14ms/step - loss: 0.3951 - accuracy: 0.8294 - val_loss: 12.7310 - val_accuracy: 0.3936\n",
            "Epoch 9/100\n",
            "12/12 [==============================] - 0s 12ms/step - loss: 0.3714 - accuracy: 0.8504 - val_loss: 9.4648 - val_accuracy: 0.1436\n",
            "Epoch 10/100\n",
            "12/12 [==============================] - 0s 9ms/step - loss: 0.3512 - accuracy: 0.8688 - val_loss: 11.8334 - val_accuracy: 0.3511\n",
            "Epoch 11/100\n",
            "12/12 [==============================] - 0s 10ms/step - loss: 0.3328 - accuracy: 0.8819 - val_loss: 16.8460 - val_accuracy: 0.3830\n",
            "Epoch 12/100\n",
            "12/12 [==============================] - 0s 11ms/step - loss: 0.3174 - accuracy: 0.8871 - val_loss: 22.1126 - val_accuracy: 0.3883\n",
            "Epoch 13/100\n",
            "12/12 [==============================] - 0s 12ms/step - loss: 0.3033 - accuracy: 0.8976 - val_loss: 27.2923 - val_accuracy: 0.3883\n",
            "Epoch 14/100\n",
            "12/12 [==============================] - 0s 10ms/step - loss: 0.2901 - accuracy: 0.9055 - val_loss: 32.2576 - val_accuracy: 0.3883\n",
            "Epoch 15/100\n",
            "12/12 [==============================] - 0s 9ms/step - loss: 0.2788 - accuracy: 0.9134 - val_loss: 37.2339 - val_accuracy: 0.3883\n",
            "Epoch 16/100\n",
            "12/12 [==============================] - 0s 16ms/step - loss: 0.2682 - accuracy: 0.9160 - val_loss: 41.8205 - val_accuracy: 0.3883\n",
            "Epoch 17/100\n",
            "12/12 [==============================] - 0s 12ms/step - loss: 0.2587 - accuracy: 0.9213 - val_loss: 46.3558 - val_accuracy: 0.3883\n",
            "Epoch 18/100\n",
            "12/12 [==============================] - 0s 11ms/step - loss: 0.2499 - accuracy: 0.9239 - val_loss: 50.6804 - val_accuracy: 0.3883\n",
            "Epoch 19/100\n",
            "12/12 [==============================] - 0s 12ms/step - loss: 0.2419 - accuracy: 0.9265 - val_loss: 55.0853 - val_accuracy: 0.3883\n",
            "Epoch 20/100\n",
            "12/12 [==============================] - 0s 10ms/step - loss: 0.2344 - accuracy: 0.9291 - val_loss: 59.1116 - val_accuracy: 0.3883\n",
            "Epoch 21/100\n",
            "12/12 [==============================] - 0s 11ms/step - loss: 0.2275 - accuracy: 0.9291 - val_loss: 63.1156 - val_accuracy: 0.3883\n",
            "Epoch 22/100\n",
            "12/12 [==============================] - 0s 11ms/step - loss: 0.2210 - accuracy: 0.9291 - val_loss: 67.0321 - val_accuracy: 0.3883\n",
            "Epoch 23/100\n",
            "12/12 [==============================] - 0s 12ms/step - loss: 0.2152 - accuracy: 0.9318 - val_loss: 70.8629 - val_accuracy: 0.3883\n",
            "Epoch 24/100\n",
            "12/12 [==============================] - 0s 11ms/step - loss: 0.2095 - accuracy: 0.9318 - val_loss: 74.6400 - val_accuracy: 0.3883\n",
            "Epoch 25/100\n",
            "12/12 [==============================] - 0s 10ms/step - loss: 0.2044 - accuracy: 0.9344 - val_loss: 78.2621 - val_accuracy: 0.3883\n",
            "Epoch 26/100\n",
            "12/12 [==============================] - 0s 9ms/step - loss: 0.1994 - accuracy: 0.9344 - val_loss: 81.8073 - val_accuracy: 0.3883\n",
            "Epoch 27/100\n",
            "12/12 [==============================] - 0s 10ms/step - loss: 0.1947 - accuracy: 0.9370 - val_loss: 85.2051 - val_accuracy: 0.3883\n",
            "Epoch 28/100\n",
            "12/12 [==============================] - 0s 7ms/step - loss: 0.1905 - accuracy: 0.9370 - val_loss: 88.5931 - val_accuracy: 0.3883\n",
            "Epoch 29/100\n",
            "12/12 [==============================] - 0s 7ms/step - loss: 0.1863 - accuracy: 0.9396 - val_loss: 91.8731 - val_accuracy: 0.3883\n",
            "Epoch 30/100\n",
            "12/12 [==============================] - 0s 6ms/step - loss: 0.1827 - accuracy: 0.9396 - val_loss: 95.0793 - val_accuracy: 0.3883\n",
            "Epoch 31/100\n",
            "12/12 [==============================] - 0s 6ms/step - loss: 0.1788 - accuracy: 0.9396 - val_loss: 98.3179 - val_accuracy: 0.3883\n",
            "Epoch 32/100\n",
            "12/12 [==============================] - 0s 6ms/step - loss: 0.1754 - accuracy: 0.9449 - val_loss: 101.4414 - val_accuracy: 0.3883\n",
            "Epoch 33/100\n",
            "12/12 [==============================] - 0s 6ms/step - loss: 0.1721 - accuracy: 0.9501 - val_loss: 104.4465 - val_accuracy: 0.3883\n",
            "Epoch 34/100\n",
            "12/12 [==============================] - 0s 5ms/step - loss: 0.1691 - accuracy: 0.9554 - val_loss: 107.4783 - val_accuracy: 0.3883\n",
            "Epoch 35/100\n",
            "12/12 [==============================] - 0s 6ms/step - loss: 0.1660 - accuracy: 0.9580 - val_loss: 110.3981 - val_accuracy: 0.3883\n",
            "Epoch 36/100\n",
            "12/12 [==============================] - 0s 8ms/step - loss: 0.1632 - accuracy: 0.9580 - val_loss: 113.3153 - val_accuracy: 0.3883\n",
            "Epoch 37/100\n",
            "12/12 [==============================] - 0s 8ms/step - loss: 0.1605 - accuracy: 0.9580 - val_loss: 116.0782 - val_accuracy: 0.3883\n",
            "Epoch 38/100\n",
            "12/12 [==============================] - 0s 8ms/step - loss: 0.1580 - accuracy: 0.9606 - val_loss: 118.9028 - val_accuracy: 0.3883\n",
            "Epoch 39/100\n",
            "12/12 [==============================] - 0s 9ms/step - loss: 0.1555 - accuracy: 0.9633 - val_loss: 121.6128 - val_accuracy: 0.3883\n",
            "Epoch 40/100\n",
            "12/12 [==============================] - 0s 8ms/step - loss: 0.1532 - accuracy: 0.9633 - val_loss: 124.2613 - val_accuracy: 0.3883\n",
            "Epoch 41/100\n",
            "12/12 [==============================] - 0s 8ms/step - loss: 0.1509 - accuracy: 0.9659 - val_loss: 126.8896 - val_accuracy: 0.3883\n",
            "Epoch 42/100\n",
            "12/12 [==============================] - 0s 8ms/step - loss: 0.1488 - accuracy: 0.9659 - val_loss: 129.5610 - val_accuracy: 0.3883\n",
            "Epoch 43/100\n",
            "12/12 [==============================] - 0s 8ms/step - loss: 0.1467 - accuracy: 0.9659 - val_loss: 132.1186 - val_accuracy: 0.3883\n",
            "Epoch 44/100\n",
            "12/12 [==============================] - 0s 8ms/step - loss: 0.1447 - accuracy: 0.9659 - val_loss: 134.4673 - val_accuracy: 0.3883\n",
            "Epoch 45/100\n",
            "12/12 [==============================] - 0s 7ms/step - loss: 0.1428 - accuracy: 0.9659 - val_loss: 137.0136 - val_accuracy: 0.3883\n",
            "Epoch 46/100\n",
            "12/12 [==============================] - 0s 7ms/step - loss: 0.1410 - accuracy: 0.9659 - val_loss: 139.5078 - val_accuracy: 0.3883\n",
            "Epoch 47/100\n",
            "12/12 [==============================] - 0s 8ms/step - loss: 0.1392 - accuracy: 0.9659 - val_loss: 141.9370 - val_accuracy: 0.3883\n",
            "Epoch 48/100\n",
            "12/12 [==============================] - 0s 8ms/step - loss: 0.1375 - accuracy: 0.9659 - val_loss: 144.2979 - val_accuracy: 0.3883\n",
            "Epoch 49/100\n",
            "12/12 [==============================] - 0s 8ms/step - loss: 0.1359 - accuracy: 0.9685 - val_loss: 146.6803 - val_accuracy: 0.3883\n",
            "Epoch 50/100\n",
            "12/12 [==============================] - 0s 8ms/step - loss: 0.1343 - accuracy: 0.9685 - val_loss: 148.9774 - val_accuracy: 0.3883\n",
            "Epoch 51/100\n",
            "12/12 [==============================] - 0s 7ms/step - loss: 0.1327 - accuracy: 0.9685 - val_loss: 151.0780 - val_accuracy: 0.3883\n",
            "Epoch 52/100\n",
            "12/12 [==============================] - 0s 8ms/step - loss: 0.1313 - accuracy: 0.9685 - val_loss: 153.3495 - val_accuracy: 0.3883\n",
            "Epoch 53/100\n",
            "12/12 [==============================] - 0s 8ms/step - loss: 0.1299 - accuracy: 0.9685 - val_loss: 155.6393 - val_accuracy: 0.3883\n",
            "Epoch 54/100\n",
            "12/12 [==============================] - 0s 9ms/step - loss: 0.1285 - accuracy: 0.9685 - val_loss: 157.8151 - val_accuracy: 0.3883\n",
            "Epoch 55/100\n",
            "12/12 [==============================] - 0s 7ms/step - loss: 0.1272 - accuracy: 0.9685 - val_loss: 159.9690 - val_accuracy: 0.3883\n",
            "Epoch 56/100\n",
            "12/12 [==============================] - 0s 5ms/step - loss: 0.1259 - accuracy: 0.9685 - val_loss: 162.0800 - val_accuracy: 0.3883\n",
            "Epoch 57/100\n",
            "12/12 [==============================] - 0s 5ms/step - loss: 0.1246 - accuracy: 0.9685 - val_loss: 164.1550 - val_accuracy: 0.3883\n",
            "Epoch 58/100\n",
            "12/12 [==============================] - 0s 5ms/step - loss: 0.1234 - accuracy: 0.9711 - val_loss: 166.3426 - val_accuracy: 0.3883\n",
            "Epoch 59/100\n",
            "12/12 [==============================] - 0s 6ms/step - loss: 0.1222 - accuracy: 0.9738 - val_loss: 168.3243 - val_accuracy: 0.3883\n",
            "Epoch 60/100\n",
            "12/12 [==============================] - 0s 7ms/step - loss: 0.1211 - accuracy: 0.9738 - val_loss: 170.3206 - val_accuracy: 0.3883\n",
            "Epoch 61/100\n",
            "12/12 [==============================] - 0s 7ms/step - loss: 0.1199 - accuracy: 0.9738 - val_loss: 172.2348 - val_accuracy: 0.3883\n",
            "Epoch 62/100\n",
            "12/12 [==============================] - 0s 5ms/step - loss: 0.1189 - accuracy: 0.9738 - val_loss: 174.2362 - val_accuracy: 0.3883\n",
            "Epoch 63/100\n",
            "12/12 [==============================] - 0s 5ms/step - loss: 0.1179 - accuracy: 0.9738 - val_loss: 176.3063 - val_accuracy: 0.3883\n",
            "Epoch 64/100\n",
            "12/12 [==============================] - 0s 6ms/step - loss: 0.1168 - accuracy: 0.9738 - val_loss: 178.0836 - val_accuracy: 0.3883\n",
            "Epoch 65/100\n",
            "12/12 [==============================] - 0s 6ms/step - loss: 0.1159 - accuracy: 0.9738 - val_loss: 180.0656 - val_accuracy: 0.3883\n",
            "Epoch 66/100\n",
            "12/12 [==============================] - 0s 7ms/step - loss: 0.1149 - accuracy: 0.9711 - val_loss: 182.0358 - val_accuracy: 0.3883\n",
            "Epoch 67/100\n",
            "12/12 [==============================] - 0s 5ms/step - loss: 0.1140 - accuracy: 0.9711 - val_loss: 183.9103 - val_accuracy: 0.3883\n",
            "Epoch 68/100\n",
            "12/12 [==============================] - 0s 5ms/step - loss: 0.1130 - accuracy: 0.9711 - val_loss: 185.6767 - val_accuracy: 0.3883\n",
            "Epoch 69/100\n",
            "12/12 [==============================] - 0s 6ms/step - loss: 0.1122 - accuracy: 0.9711 - val_loss: 187.5835 - val_accuracy: 0.3883\n",
            "Epoch 70/100\n",
            "12/12 [==============================] - 0s 8ms/step - loss: 0.1113 - accuracy: 0.9711 - val_loss: 189.4350 - val_accuracy: 0.3883\n",
            "Epoch 71/100\n",
            "12/12 [==============================] - 0s 8ms/step - loss: 0.1105 - accuracy: 0.9711 - val_loss: 191.2192 - val_accuracy: 0.3883\n",
            "Epoch 72/100\n",
            "12/12 [==============================] - 0s 7ms/step - loss: 0.1097 - accuracy: 0.9711 - val_loss: 192.9686 - val_accuracy: 0.3883\n",
            "Epoch 73/100\n",
            "12/12 [==============================] - 0s 8ms/step - loss: 0.1088 - accuracy: 0.9711 - val_loss: 194.7251 - val_accuracy: 0.3883\n",
            "Epoch 74/100\n",
            "12/12 [==============================] - 0s 7ms/step - loss: 0.1081 - accuracy: 0.9711 - val_loss: 196.5387 - val_accuracy: 0.3883\n",
            "Epoch 75/100\n",
            "12/12 [==============================] - 0s 8ms/step - loss: 0.1073 - accuracy: 0.9711 - val_loss: 198.3443 - val_accuracy: 0.3883\n",
            "Epoch 76/100\n",
            "12/12 [==============================] - 0s 8ms/step - loss: 0.1066 - accuracy: 0.9711 - val_loss: 199.9278 - val_accuracy: 0.3883\n",
            "Epoch 77/100\n",
            "12/12 [==============================] - 0s 8ms/step - loss: 0.1059 - accuracy: 0.9711 - val_loss: 201.7752 - val_accuracy: 0.3883\n",
            "Epoch 78/100\n",
            "12/12 [==============================] - 0s 7ms/step - loss: 0.1051 - accuracy: 0.9711 - val_loss: 203.3793 - val_accuracy: 0.3883\n",
            "Epoch 79/100\n",
            "12/12 [==============================] - 0s 7ms/step - loss: 0.1044 - accuracy: 0.9711 - val_loss: 205.0523 - val_accuracy: 0.3883\n",
            "Epoch 80/100\n",
            "12/12 [==============================] - 0s 7ms/step - loss: 0.1038 - accuracy: 0.9711 - val_loss: 206.7030 - val_accuracy: 0.3883\n",
            "Epoch 81/100\n",
            "12/12 [==============================] - 0s 7ms/step - loss: 0.1031 - accuracy: 0.9711 - val_loss: 208.2363 - val_accuracy: 0.3883\n",
            "Epoch 82/100\n",
            "12/12 [==============================] - 0s 8ms/step - loss: 0.1024 - accuracy: 0.9711 - val_loss: 209.8372 - val_accuracy: 0.3883\n",
            "Epoch 83/100\n",
            "12/12 [==============================] - 0s 7ms/step - loss: 0.1018 - accuracy: 0.9711 - val_loss: 211.5019 - val_accuracy: 0.3883\n",
            "Epoch 84/100\n",
            "12/12 [==============================] - 0s 7ms/step - loss: 0.1012 - accuracy: 0.9711 - val_loss: 213.2250 - val_accuracy: 0.3883\n",
            "Epoch 85/100\n",
            "12/12 [==============================] - 0s 7ms/step - loss: 0.1006 - accuracy: 0.9711 - val_loss: 214.8645 - val_accuracy: 0.3883\n",
            "Epoch 86/100\n",
            "12/12 [==============================] - 0s 8ms/step - loss: 0.1000 - accuracy: 0.9764 - val_loss: 216.1668 - val_accuracy: 0.3883\n",
            "Epoch 87/100\n",
            "12/12 [==============================] - 0s 7ms/step - loss: 0.0994 - accuracy: 0.9764 - val_loss: 217.8530 - val_accuracy: 0.3883\n",
            "Epoch 88/100\n",
            "12/12 [==============================] - 0s 9ms/step - loss: 0.0989 - accuracy: 0.9764 - val_loss: 219.4639 - val_accuracy: 0.3883\n",
            "Epoch 89/100\n",
            "12/12 [==============================] - 0s 7ms/step - loss: 0.0983 - accuracy: 0.9764 - val_loss: 220.7892 - val_accuracy: 0.3883\n",
            "Epoch 90/100\n",
            "12/12 [==============================] - 0s 8ms/step - loss: 0.0977 - accuracy: 0.9764 - val_loss: 222.4040 - val_accuracy: 0.3883\n",
            "Epoch 91/100\n",
            "12/12 [==============================] - 0s 8ms/step - loss: 0.0972 - accuracy: 0.9764 - val_loss: 223.9932 - val_accuracy: 0.3883\n",
            "Epoch 92/100\n",
            "12/12 [==============================] - 0s 7ms/step - loss: 0.0967 - accuracy: 0.9764 - val_loss: 225.3111 - val_accuracy: 0.3883\n",
            "Epoch 93/100\n",
            "12/12 [==============================] - 0s 7ms/step - loss: 0.0962 - accuracy: 0.9738 - val_loss: 227.0049 - val_accuracy: 0.3883\n",
            "Epoch 94/100\n",
            "12/12 [==============================] - 0s 7ms/step - loss: 0.0956 - accuracy: 0.9738 - val_loss: 228.5852 - val_accuracy: 0.3883\n",
            "Epoch 95/100\n",
            "12/12 [==============================] - 0s 7ms/step - loss: 0.0951 - accuracy: 0.9738 - val_loss: 229.9464 - val_accuracy: 0.3883\n",
            "Epoch 96/100\n",
            "12/12 [==============================] - 0s 6ms/step - loss: 0.0947 - accuracy: 0.9738 - val_loss: 231.1533 - val_accuracy: 0.3883\n",
            "Epoch 97/100\n",
            "12/12 [==============================] - 0s 7ms/step - loss: 0.0942 - accuracy: 0.9738 - val_loss: 232.9076 - val_accuracy: 0.3883\n",
            "Epoch 98/100\n",
            "12/12 [==============================] - 0s 8ms/step - loss: 0.0937 - accuracy: 0.9738 - val_loss: 234.1964 - val_accuracy: 0.3883\n",
            "Epoch 99/100\n",
            "12/12 [==============================] - 0s 7ms/step - loss: 0.0932 - accuracy: 0.9738 - val_loss: 235.5084 - val_accuracy: 0.3883\n",
            "Epoch 100/100\n",
            "12/12 [==============================] - 0s 6ms/step - loss: 0.0928 - accuracy: 0.9738 - val_loss: 237.0776 - val_accuracy: 0.3883\n"
          ]
        }
      ]
    },
    {
      "cell_type": "code",
      "source": [
        "print('Train Score:', model.evaluate(X_train, Y_train))\n",
        "print('Test Score:', model.evaluate(X_test, Y_test))"
      ],
      "metadata": {
        "colab": {
          "base_uri": "https://localhost:8080/"
        },
        "id": "F5Fq07Pm-KKt",
        "outputId": "6b7b981e-04f7-44e8-d908-de71970aef7b"
      },
      "execution_count": 21,
      "outputs": [
        {
          "output_type": "stream",
          "name": "stdout",
          "text": [
            "12/12 [==============================] - 0s 3ms/step - loss: 0.0925 - accuracy: 0.9738\n",
            "Train Score: [0.09250667691230774, 0.9737532734870911]\n",
            "6/6 [==============================] - 0s 4ms/step - loss: 237.0776 - accuracy: 0.3883\n",
            "Test Score: [237.07762145996094, 0.3882978856563568]\n"
          ]
        }
      ]
    },
    {
      "cell_type": "code",
      "source": [
        "# Show Such results in graph\n",
        "import matplotlib.pyplot as plt\n",
        "plt.plot(r.history['loss'], label='loss')\n",
        "plt.plot(r.history['val_loss'], label='val_loss')\n",
        "plt.legend()\n"
      ],
      "metadata": {
        "colab": {
          "base_uri": "https://localhost:8080/",
          "height": 282
        },
        "id": "wipctTBi-zV-",
        "outputId": "6562c036-cd0e-4996-dccc-1fb9e80162ef"
      },
      "execution_count": 23,
      "outputs": [
        {
          "output_type": "execute_result",
          "data": {
            "text/plain": [
              "<matplotlib.legend.Legend at 0x7fd8e3ec9e20>"
            ]
          },
          "metadata": {},
          "execution_count": 23
        },
        {
          "output_type": "display_data",
          "data": {
            "text/plain": [
              "<Figure size 432x288 with 1 Axes>"
            ],
            "image/png": "[encoded data removed]"
          },
          "metadata": {
            "needs_background": "light"
          }
        }
      ]
    }
  ]
}